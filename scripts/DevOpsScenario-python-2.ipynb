{
 "cells": [
  {
   "cell_type": "markdown",
   "metadata": {},
   "source": [
    "## Automate EC2 Instance Launch:"
   ]
  },
  {
   "cell_type": "code",
   "execution_count": null,
   "metadata": {},
   "outputs": [],
   "source": [
    "import boto3\n",
    "\n",
    "def launch_ec2_instance():\n",
    "    ec2 = boto3.client('ec2')\n",
    "    response = ec2.run_instances(\n",
    "        ImageId='ami-0abcdef1234567890',\n",
    "        InstanceType='t2.micro',\n",
    "        MinCount=1,\n",
    "        MaxCount=1\n",
    "    )\n",
    "    print(response)\n",
    "\n",
    "launch_ec2_instance()"
   ]
  },
  {
   "cell_type": "markdown",
   "metadata": {},
   "source": [
    "## Terminate EC2 Instances:"
   ]
  },
  {
   "cell_type": "code",
   "execution_count": null,
   "metadata": {},
   "outputs": [],
   "source": [
    "import boto3\n",
    "\n",
    "def terminate_ec2_instances(instance_ids):\n",
    "    ec2 = boto3.client('ec2')\n",
    "    response = ec2.terminate_instances(InstanceIds=instance_ids)\n",
    "    print(response)\n",
    "\n",
    "terminate_ec2_instances(['i-1234567890abcdef0'])"
   ]
  },
  {
   "cell_type": "markdown",
   "metadata": {},
   "source": [
    "## Create S3 Bucket:"
   ]
  },
  {
   "cell_type": "code",
   "execution_count": null,
   "metadata": {},
   "outputs": [],
   "source": [
    "import boto3\n",
    "\n",
    "def create_s3_bucket(bucket_name):\n",
    "    s3 = boto3.client('s3')\n",
    "    response = s3.create_bucket(Bucket=bucket_name)\n",
    "    print(response)\n",
    "\n",
    "create_s3_bucket('my-new-bucket')"
   ]
  },
  {
   "cell_type": "markdown",
   "metadata": {},
   "source": [
    "## Upload File to S3:"
   ]
  },
  {
   "cell_type": "code",
   "execution_count": null,
   "metadata": {},
   "outputs": [],
   "source": [
    "import boto3\n",
    "\n",
    "def upload_file_to_s3(file_name, bucket_name, object_name=None):\n",
    "    s3 = boto3.client('s3')\n",
    "    if object_name is None:\n",
    "        object_name = file_name\n",
    "    response = s3.upload_file(file_name, bucket_name, object_name)\n",
    "    print(response)\n",
    "\n",
    "upload_file_to_s3('myfile.txt', 'my-bucket')"
   ]
  },
  {
   "cell_type": "markdown",
   "metadata": {},
   "source": [
    "## Download File from S3:"
   ]
  },
  {
   "cell_type": "code",
   "execution_count": null,
   "metadata": {},
   "outputs": [],
   "source": [
    "import boto3\n",
    "\n",
    "def download_file_from_s3(bucket_name, object_name, file_name):\n",
    "    s3 = boto3.client('s3')\n",
    "    response = s3.download_file(bucket_name, object_name, file_name)\n",
    "    print(response)\n",
    "\n",
    "download_file_from_s3('my-bucket', 'myfile.txt', 'downloaded_myfile.txt')"
   ]
  },
  {
   "cell_type": "markdown",
   "metadata": {},
   "source": [
    "## Create RDS Instance:"
   ]
  },
  {
   "cell_type": "code",
   "execution_count": null,
   "metadata": {},
   "outputs": [],
   "source": [
    "import boto3\n",
    "\n",
    "def create_rds_instance():\n",
    "    rds = boto3.client('rds')\n",
    "    response = rds.create_db_instance(\n",
    "        DBInstanceIdentifier='mydbinstance',\n",
    "        MasterUsername='admin',\n",
    "        MasterUserPassword='password',\n",
    "        DBInstanceClass='db.t2.micro',\n",
    "        Engine='mysql',\n",
    "        AllocatedStorage=20\n",
    "    )\n",
    "    print(response)\n",
    "\n",
    "create_rds_instance()"
   ]
  },
  {
   "cell_type": "markdown",
   "metadata": {},
   "source": [
    "## Delete RDS Instance:"
   ]
  },
  {
   "cell_type": "code",
   "execution_count": null,
   "metadata": {},
   "outputs": [],
   "source": [
    "import boto3\n",
    "\n",
    "def delete_rds_instance(db_instance_identifier):\n",
    "    rds = boto3.client('rds')\n",
    "    response = rds.delete_db_instance(\n",
    "        DBInstanceIdentifier=db_instance_identifier,\n",
    "        SkipFinalSnapshot=True\n",
    "    )\n",
    "    print(response)\n",
    "\n",
    "delete_rds_instance('mydbinstance')"
   ]
  },
  {
   "cell_type": "markdown",
   "metadata": {},
   "source": [
    "## Create IAM User:"
   ]
  },
  {
   "cell_type": "code",
   "execution_count": null,
   "metadata": {},
   "outputs": [],
   "source": [
    "import boto3\n",
    "\n",
    "def create_iam_user(user_name):\n",
    "    iam = boto3.client('iam')\n",
    "    response = iam.create_user(UserName=user_name)\n",
    "    print(response)\n",
    "\n",
    "create_iam_user('newuser')"
   ]
  },
  {
   "cell_type": "markdown",
   "metadata": {},
   "source": [
    "## Attach IAM Policy to User:"
   ]
  },
  {
   "cell_type": "code",
   "execution_count": null,
   "metadata": {},
   "outputs": [],
   "source": [
    "import boto3\n",
    "\n",
    "def attach_iam_policy(user_name, policy_arn):\n",
    "    iam = boto3.client('iam')\n",
    "    response = iam.attach_user_policy(UserName=user_name, PolicyArn=policy_arn)\n",
    "    print(response)\n",
    "\n",
    "attach_iam_policy('newuser', 'arn:aws:iam::aws:policy/AmazonS3FullAccess')"
   ]
  },
  {
   "cell_type": "markdown",
   "metadata": {},
   "source": [
    "## Create CloudFormation Stack:"
   ]
  },
  {
   "cell_type": "code",
   "execution_count": null,
   "metadata": {},
   "outputs": [],
   "source": [
    "import boto3\n",
    "\n",
    "def create_cloudformation_stack(stack_name, template_url):\n",
    "    cloudformation = boto3.client('cloudformation')\n",
    "    response = cloudformation.create_stack(\n",
    "        StackName=stack_name,\n",
    "        TemplateURL=template_url\n",
    "    )\n",
    "    print(response)\n",
    "\n",
    "create_cloudformation_stack('mystack', 'https://s3.amazonaws.com/mybucket/mytemplate.yaml')"
   ]
  },
  {
   "cell_type": "markdown",
   "metadata": {},
   "source": [
    "## Create ECR Repository:"
   ]
  },
  {
   "cell_type": "code",
   "execution_count": null,
   "metadata": {},
   "outputs": [],
   "source": [
    "import boto3\n",
    "\n",
    "def create_ecr_repository(repository_name):\n",
    "    ecr = boto3.client('ecr')\n",
    "    response = ecr.create_repository(repositoryName=repository_name)\n",
    "    print(response)\n",
    "\n",
    "create_ecr_repository('my-repo')"
   ]
  },
  {
   "cell_type": "markdown",
   "metadata": {},
   "source": [
    "## Push Docker Image to ECR:"
   ]
  },
  {
   "cell_type": "code",
   "execution_count": null,
   "metadata": {},
   "outputs": [],
   "source": [
    "import subprocess\n",
    "\n",
    "def push_docker_image_to_ecr(repository_name, image_tag):\n",
    "    subprocess.run(['aws', 'ecr', 'get-login-password', '--region', 'us-west-2', '|', 'docker', 'login', '--username', 'AWS', '--password-stdin', f'{repository_name}'])\n",
    "    subprocess.run(['docker', 'tag', image_tag, f'{repository_name}:{image_tag}'])\n",
    "    subprocess.run(['docker', 'push', f'{repository_name}:{image_tag}'])\n",
    "\n",
    "push_docker_image_to_ecr('123456789012.dkr.ecr.us-west-2.amazonaws.com/my-repo', 'latest')"
   ]
  },
  {
   "cell_type": "markdown",
   "metadata": {},
   "source": [
    "## Create Lambda Function:"
   ]
  },
  {
   "cell_type": "code",
   "execution_count": null,
   "metadata": {},
   "outputs": [],
   "source": [
    "import boto3\n",
    "\n",
    "def create_lambda_function(function_name, role_arn, handler, zip_file):\n",
    "    lambda_client = boto3.client('lambda')\n",
    "    with open(zip_file, 'rb') as f:\n",
    "        zipped_code = f.read()\n",
    "    response = lambda_client.create_function(\n",
    "        FunctionName=function_name,\n",
    "        Runtime='python3.8',\n",
    "        Role=role_arn,\n",
    "        Handler=handler,\n",
    "        Code=dict(ZipFile=zipped_code)\n",
    "    )\n",
    "    print(response)\n",
    "\n",
    "create_lambda_function('my-function', 'arn:aws:iam::123456789012:role/execution_role', 'lambda_function.lambda_handler', 'function.zip')"
   ]
  },
  {
   "cell_type": "markdown",
   "metadata": {},
   "source": [
    "## Invoke Lambda Function:"
   ]
  },
  {
   "cell_type": "code",
   "execution_count": null,
   "metadata": {},
   "outputs": [],
   "source": [
    "import boto3\n",
    "\n",
    "def invoke_lambda_function(function_name, payload):\n",
    "    lambda_client = boto3.client('lambda')\n",
    "    response = lambda_client.invoke(\n",
    "        FunctionName=function_name,\n",
    "        InvocationType='RequestResponse',\n",
    "        Payload=json.dumps(payload)\n",
    "    )\n",
    "    print(response['Payload'].read().decode())\n",
    "\n",
    "invoke_lambda_function('my-function', {'key': 'value'})"
   ]
  },
  {
   "cell_type": "markdown",
   "metadata": {},
   "source": [
    "## Create CloudWatch Log Group:"
   ]
  },
  {
   "cell_type": "code",
   "execution_count": null,
   "metadata": {},
   "outputs": [],
   "source": [
    "import boto3\n",
    "\n",
    "def create_log_group(log_group_name):\n",
    "    logs = boto3.client('logs')\n",
    "    response = logs.create_log_group(logGroupName=log_group_name)\n",
    "    print(response)\n",
    "\n",
    "create_log_group('/aws/lambda/my-function')"
   ]
  },
  {
   "cell_type": "markdown",
   "metadata": {},
   "source": [
    "## Put CloudWatch Log Events:"
   ]
  },
  {
   "cell_type": "code",
   "execution_count": null,
   "metadata": {},
   "outputs": [],
   "source": [
    "import boto3\n",
    "\n",
    "def put_log_events(log_group_name, log_stream_name, messages):\n",
    "    logs = boto3.client('logs')\n",
    "    response = logs.create_log_stream(logGroupName=log_group_name, logStreamName=log_stream_name)\n",
    "    log_events = [{'timestamp': int(time.time() * 1000), 'message': msg} for msg in messages]\n",
    "    response = logs.put_log_events(logGroupName=log_group_name, logStreamName=log_stream_name, logEvents=log_events)\n",
    "    print(response)\n",
    "\n",
    "put_log_events('/aws/lambda/my-function', 'my-log-stream', ['message1', 'message2'])"
   ]
  },
  {
   "cell_type": "markdown",
   "metadata": {},
   "source": [
    "## Create SNS Topic:"
   ]
  },
  {
   "cell_type": "code",
   "execution_count": null,
   "metadata": {},
   "outputs": [],
   "source": [
    "import boto3\n",
    "\n",
    "def create_sns_topic(topic_name):\n",
    "    sns = boto3.client('sns')\n",
    "    response = sns.create_topic(Name=topic_name)\n",
    "    print(response)\n",
    "\n",
    "create_sns_topic('my-topic')"
   ]
  },
  {
   "cell_type": "markdown",
   "metadata": {},
   "source": [
    "## Publish SNS Message:"
   ]
  },
  {
   "cell_type": "code",
   "execution_count": null,
   "metadata": {},
   "outputs": [],
   "source": [
    "import boto3\n",
    "\n",
    "def publish_sns_message(topic_arn, message):\n",
    "    sns = boto3.client('sns')\n",
    "    response = sns.publish(TopicArn=topic_arn, Message=message)\n",
    "    print(response)\n",
    "\n",
    "publish_sns_message('arn:aws:sns:us-west-2:123456789012:my-topic', 'Hello, world!')"
   ]
  },
  {
   "cell_type": "markdown",
   "metadata": {},
   "source": [
    "## Create SQS Queue:"
   ]
  },
  {
   "cell_type": "code",
   "execution_count": null,
   "metadata": {},
   "outputs": [],
   "source": [
    "import boto3\n",
    "\n",
    "def create_sqs_queue(queue_name):\n",
    "    sqs = boto3.client('sqs')\n",
    "    response = sqs.create_queue(QueueName=queue_name)\n",
    "    print(response)\n",
    "\n",
    "create_sqs_queue('my-queue')"
   ]
  }
 ],
 "metadata": {
  "kernelspec": {
   "display_name": "Python 3",
   "language": "python",
   "name": "python3"
  },
  "language_info": {
   "name": "python",
   "version": "3.10.12"
  }
 },
 "nbformat": 4,
 "nbformat_minor": 2
}
