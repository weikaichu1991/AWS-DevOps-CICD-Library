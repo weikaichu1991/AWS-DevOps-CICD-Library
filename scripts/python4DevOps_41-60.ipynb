{
 "cells": [
  {
   "cell_type": "markdown",
   "metadata": {},
   "source": [
    "Q41: Best Time to Buy and Sell Stock\n",
    "Write a function max_profit(prices) that takes a list of prices and returns the maximum profit you can achieve by buying and selling one share of the stock. You are only allowed to complete one transaction."
   ]
  },
  {
   "cell_type": "markdown",
   "metadata": {},
   "source": [
    "This function iterates through the list of prices while keeping track of the minimum price encountered so far and the maximum profit that can be achieved. For each price, it updates the minimum price if the current price is lower, and it updates the maximum profit if the difference between the current price and the minimum price is greater than the current maximum profit. Finally, it returns the maximum profit."
   ]
  },
  {
   "cell_type": "code",
   "execution_count": null,
   "metadata": {},
   "outputs": [],
   "source": [
    "def max_profit(prices):\n",
    "    if not prices:\n",
    "        return 0\n",
    "    \n",
    "    min_price = float('inf')\n",
    "    max_profit = 0\n",
    "    \n",
    "    for price in prices:\n",
    "        if price < min_price:\n",
    "            min_price = price\n",
    "        elif price - min_price > max_profit:\n",
    "            max_profit = price - min_price\n",
    "    \n",
    "    return max_profit\n",
    "\n",
    "# Example usage:\n",
    "prices = [7, 1, 5, 3, 6, 4]\n",
    "print(max_profit(prices))  # Output: 5"
   ]
  },
  {
   "cell_type": "markdown",
   "metadata": {},
   "source": [
    "Q42: ## Binary Tree Inorder Traversal\n",
    "Write a function `inorder_traversal(root)` that takes the root of a binary tree and returns its inorder traversal as a list of values."
   ]
  },
  {
   "cell_type": "markdown",
   "metadata": {},
   "source": [
    "This function defines a helper function traverse that recursively performs an inorder traversal of the binary tree. It first traverses the left subtree, then appends the value of the current node to the result list, and finally traverses the right subtree. The inorder_traversal function initializes an empty result list, calls the helper function with the root node, and returns the result list."
   ]
  },
  {
   "cell_type": "code",
   "execution_count": null,
   "metadata": {},
   "outputs": [],
   "source": [
    "class TreeNode:\n",
    "    def __init__(self, val=0, left=None, right=None):\n",
    "        self.val = val\n",
    "        self.left = left\n",
    "        self.right = right\n",
    "\n",
    "def inorder_traversal(root):\n",
    "    result = []\n",
    "    def traverse(node):\n",
    "        if node:\n",
    "            traverse(node.left)\n",
    "            result.append(node.val)\n",
    "            traverse(node.right)\n",
    "    traverse(root)\n",
    "    return result\n",
    "\n",
    "# Example usage:\n",
    "# Constructing the binary tree:\n",
    "#     1\n",
    "#      \\\n",
    "#       2\n",
    "#      /\n",
    "#     3\n",
    "root = TreeNode(1)\n",
    "root.right = TreeNode(2)\n",
    "root.right.left = TreeNode(3)\n",
    "\n",
    "print(inorder_traversal(root))  # Output: [1, 3, 2]"
   ]
  },
  {
   "cell_type": "markdown",
   "metadata": {},
   "source": [
    "Q43: ## Validate Binary Search Tree\n",
    "Write a function `is_valid_bst(root)` that takes the root of a binary tree and returns `True` if it is a valid binary search tree (BST), and `False` otherwise."
   ]
  },
  {
   "cell_type": "markdown",
   "metadata": {},
   "source": [
    "This function uses a helper function validate that recursively checks if the current node's value is within the valid range (low, high). It updates the range for the left and right subtrees accordingly. If the current node is None, it returns True. If the current node's value is not within the valid range, it returns False. The is_valid_bst function initializes the validation with the root node and the initial range of negative infinity to positive infinity."
   ]
  },
  {
   "cell_type": "code",
   "execution_count": null,
   "metadata": {},
   "outputs": [],
   "source": [
    "class TreeNode:\n",
    "    def __init__(self, val=0, left=None, right=None):\n",
    "        self.val = val\n",
    "        self.left = left\n",
    "        self.right = right\n",
    "\n",
    "def is_valid_bst(root):\n",
    "    def validate(node, low=float('-inf'), high=float('inf')):\n",
    "        if not node:\n",
    "            return True\n",
    "        if not (low < node.val < high):\n",
    "            return False\n",
    "        return (validate(node.left, low, node.val) and\n",
    "                validate(node.right, node.val, high))\n",
    "    \n",
    "    return validate(root)\n",
    "\n",
    "# Example usage:\n",
    "# Constructing the binary tree:\n",
    "#     2\n",
    "#    / \\\n",
    "#   1   3\n",
    "root = TreeNode(2)\n",
    "root.left = TreeNode(1)\n",
    "root.right = TreeNode(3)\n",
    "\n",
    "print(is_valid_bst(root))  # Output: True"
   ]
  },
  {
   "cell_type": "markdown",
   "metadata": {},
   "source": [
    "Q44:## Binary Tree Level Order Traversal\n",
    "Write a function `level_order(root)` that takes the root of a binary tree and returns its level order traversal as a list of lists of values."
   ]
  },
  {
   "cell_type": "markdown",
   "metadata": {},
   "source": [
    "This function uses a queue to perform a breadth-first search (BFS) of the binary tree. It initializes the queue with the root node and iterates while the queue is not empty. For each level of the tree, it processes all nodes at that level, appending their values to a list and adding their children to the queue. After processing each level, it appends the list of values for that level to the result list. Finally, it returns the result list containing the level order traversal."
   ]
  },
  {
   "cell_type": "code",
   "execution_count": null,
   "metadata": {},
   "outputs": [],
   "source": [
    "from collections import deque\n",
    "\n",
    "class TreeNode:\n",
    "    def __init__(self, val=0, left=None, right=None):\n",
    "        self.val = val\n",
    "        self.left = left\n",
    "        self.right = right\n",
    "\n",
    "def level_order(root):\n",
    "    if not root:\n",
    "        return []\n",
    "    \n",
    "    result = []\n",
    "    queue = deque([root])\n",
    "    \n",
    "    while queue:\n",
    "        level_size = len(queue)\n",
    "        level = []\n",
    "        \n",
    "        for _ in range(level_size):\n",
    "            node = queue.popleft()\n",
    "            level.append(node.val)\n",
    "            \n",
    "            if node.left:\n",
    "                queue.append(node.left)\n",
    "            if node.right:\n",
    "                queue.append(node.right)\n",
    "        \n",
    "        result.append(level)\n",
    "    \n",
    "    return result\n",
    "\n",
    "# Example usage:\n",
    "# Constructing the binary tree:\n",
    "#     3\n",
    "#    / \\\n",
    "#   9  20\n",
    "#      / \\\n",
    "#     15  7\n",
    "root = TreeNode(3)\n",
    "root.left = TreeNode(9)\n",
    "root.right = TreeNode(20)\n",
    "root.right.left = TreeNode(15)\n",
    "root.right.right = TreeNode(7)\n",
    "\n",
    "print(level_order(root))  # Output: [[3], [9, 20], [15, 7]]"
   ]
  },
  {
   "cell_type": "markdown",
   "metadata": {},
   "source": [
    "Q45: ## Convert Sorted Array to Binary Search Tree\n",
    "Write a function `sorted_array_to_bst(nums)` that takes a sorted array and converts it into a height-balanced binary search tree (BST)."
   ]
  },
  {
   "cell_type": "markdown",
   "metadata": {},
   "source": [
    "This function uses a helper function convert that recursively constructs the BST. It takes the left and right indices of the current subarray and calculates the middle index. It creates a new TreeNode with the value at the middle index and recursively constructs the left and right subtrees using the left and right halves of the subarray, respectively. The sorted_array_to_bst function initializes the recursion with the entire array and returns the root of the constructed BST."
   ]
  },
  {
   "cell_type": "code",
   "execution_count": null,
   "metadata": {},
   "outputs": [],
   "source": [
    "class TreeNode:\n",
    "    def __init__(self, val=0, left=None, right=None):\n",
    "        self.val = val\n",
    "        self.left = left\n",
    "        self.right = right\n",
    "\n",
    "def sorted_array_to_bst(nums):\n",
    "    if not nums:\n",
    "        return None\n",
    "    \n",
    "    def convert(left, right):\n",
    "        if left > right:\n",
    "            return None\n",
    "        \n",
    "        mid = (left + right) // 2\n",
    "        node = TreeNode(nums[mid])\n",
    "        node.left = convert(left, mid - 1)\n",
    "        node.right = convert(mid + 1, right)\n",
    "        \n",
    "        return node\n",
    "    \n",
    "    return convert(0, len(nums) - 1)\n",
    "\n",
    "# Example usage:\n",
    "nums = [-10, -3, 0, 5, 9]\n",
    "root = sorted_array_to_bst(nums)\n",
    "\n",
    "def inorder_traversal(root):\n",
    "    return inorder_traversal(root.left) + [root.val] + inorder_traversal(root.right) if root else []\n",
    "\n",
    "print(inorder_traversal(root))  # Output: [-10, -3, 0, 5, 9]"
   ]
  },
  {
   "cell_type": "markdown",
   "metadata": {},
   "source": [
    "Q46: ## House Robber\n",
    "Write a function `rob(nums)` that takes a list of non-negative integers representing the amount of money of each house and returns the maximum amount of money you can rob tonight without alerting the police (you cannot rob two adjacent houses)."
   ]
  },
  {
   "cell_type": "markdown",
   "metadata": {},
   "source": [
    "This function uses dynamic programming to calculate the maximum amount of money that can be robbed. It initializes a list dp where dp[i] represents the maximum amount of money that can be robbed from the first i+1 houses. The function iterates through the list of house values and updates the dp list based on the maximum amount of money that can be robbed from the previous houses. Finally, it returns the value of dp[-1], which represents the maximum amount of money that can be robbed from all the houses."
   ]
  },
  {
   "cell_type": "code",
   "execution_count": null,
   "metadata": {},
   "outputs": [],
   "source": [
    "def rob(nums):\n",
    "    if not nums:\n",
    "        return 0\n",
    "    if len(nums) == 1:\n",
    "        return nums[0]\n",
    "    \n",
    "    # Initialize the dp array\n",
    "    dp = [0] * len(nums)\n",
    "    dp[0] = nums[0]\n",
    "    dp[1] = max(nums[0], nums[1])\n",
    "    \n",
    "    # Fill the dp array\n",
    "    for i in range(2, len(nums)):\n",
    "        dp[i] = max(dp[i - 1], dp[i - 2] + nums[i])\n",
    "    \n",
    "    return dp[-1]\n",
    "\n",
    "# Example usage:\n",
    "nums = [2, 7, 9, 3, 1]\n",
    "print(rob(nums))  # Output: 12"
   ]
  },
  {
   "cell_type": "markdown",
   "metadata": {},
   "source": [
    "Q47: ## Merge Intervals\n",
    "Write a function `merge_intervals(intervals)` that takes a list of intervals and merges all overlapping intervals."
   ]
  },
  {
   "cell_type": "markdown",
   "metadata": {},
   "source": [
    "This function first sorts the intervals by their start times. It then iterates through the sorted intervals and merges overlapping intervals. If the list of merged intervals is empty or if the current interval does not overlap with the previous interval, it simply appends the current interval to the list of merged intervals. Otherwise, it merges the current interval with the previous interval by updating the end time of the previous interval. Finally, it returns the list of merged intervals."
   ]
  },
  {
   "cell_type": "code",
   "execution_count": null,
   "metadata": {},
   "outputs": [],
   "source": [
    "def merge_intervals(intervals):\n",
    "    if not intervals:\n",
    "        return []\n",
    "    \n",
    "    # Sort the intervals by their start times\n",
    "    intervals.sort(key=lambda x: x[0])\n",
    "    \n",
    "    merged = []\n",
    "    for interval in intervals:\n",
    "        # If the list of merged intervals is empty or if the current interval\n",
    "        # does not overlap with the previous, simply append it.\n",
    "        if not merged or merged[-1][1] < interval[0]:\n",
    "            merged.append(interval)\n",
    "        else:\n",
    "            # Otherwise, there is overlap, so we merge the current and previous intervals.\n",
    "            merged[-1][1] = max(merged[-1][1], interval[1])\n",
    "    \n",
    "    return merged\n",
    "\n",
    "# Example usage:\n",
    "intervals = [[1, 3], [2, 6], [8, 10], [15, 18]]\n",
    "print(merge_intervals(intervals))  # Output: [[1, 6], [8, 10], [15, 18]]"
   ]
  },
  {
   "cell_type": "markdown",
   "metadata": {},
   "source": [
    "Q48: ## Insert Interval\n",
    "Write a function `insert_interval(intervals, new_interval)` that takes a list of intervals and a new interval, and inserts the new interval into the list, merging if necessary."
   ]
  },
  {
   "cell_type": "markdown",
   "metadata": {},
   "source": [
    "This function first adds all intervals that come before the new interval to the result list. It then merges all overlapping intervals with the new interval by updating the start and end times of the new interval. Finally, it adds all intervals that come after the new interval to the result list. The function returns the result list containing the merged intervals."
   ]
  },
  {
   "cell_type": "code",
   "execution_count": null,
   "metadata": {},
   "outputs": [],
   "source": [
    "def insert_interval(intervals, new_interval):\n",
    "    result = []\n",
    "    i = 0\n",
    "    n = len(intervals)\n",
    "    \n",
    "    # Add all intervals that come before the new interval\n",
    "    while i < n and intervals[i][1] < new_interval[0]:\n",
    "        result.append(intervals[i])\n",
    "        i += 1\n",
    "    \n",
    "    # Merge all overlapping intervals with the new interval\n",
    "    while i < n and intervals[i][0] <= new_interval[1]:\n",
    "        new_interval[0] = min(new_interval[0], intervals[i][0])\n",
    "        new_interval[1] = max(new_interval[1], intervals[i][1])\n",
    "        i += 1\n",
    "    result.append(new_interval)\n",
    "    \n",
    "    # Add all intervals that come after the new interval\n",
    "    while i < n:\n",
    "        result.append(intervals[i])\n",
    "        i += 1\n",
    "    \n",
    "    return result\n",
    "\n",
    "# Example usage:\n",
    "intervals = [[1, 3], [6, 9]]\n",
    "new_interval = [2, 5]\n",
    "print(insert_interval(intervals, new_interval))  # Output: [[1, 5], [6, 9]]"
   ]
  },
  {
   "cell_type": "markdown",
   "metadata": {},
   "source": [
    "Q49:## Minimum Path Sum\n",
    "Write a function `min_path_sum(grid)` that takes a 2D list (grid) and returns the minimum path sum from the top-left to the bottom-right corner of the grid."
   ]
  },
  {
   "cell_type": "markdown",
   "metadata": {},
   "source": [
    "This function uses dynamic programming to calculate the minimum path sum. It first initializes the first row and the first column by accumulating the sums along the edges. Then, it iterates through the rest of the grid, updating each cell with the minimum sum of the paths from the top or left cells. Finally, it returns the value in the bottom-right corner of the grid, which represents the minimum path sum from the top-left to the bottom-right corner."
   ]
  },
  {
   "cell_type": "code",
   "execution_count": null,
   "metadata": {},
   "outputs": [],
   "source": [
    "def min_path_sum(grid):\n",
    "    if not grid or not grid[0]:\n",
    "        return 0\n",
    "    \n",
    "    m, n = len(grid), len(grid[0])\n",
    "    \n",
    "    # Initialize the first row\n",
    "    for j in range(1, n):\n",
    "        grid[0][j] += grid[0][j - 1]\n",
    "    \n",
    "    # Initialize the first column\n",
    "    for i in range(1, m):\n",
    "        grid[i][0] += grid[i - 1][0]\n",
    "    \n",
    "    # Fill in the rest of the grid\n",
    "    for i in range(1, m):\n",
    "        for j in range(1, n):\n",
    "            grid[i][j] += min(grid[i - 1][j], grid[i][j - 1])\n",
    "    \n",
    "    return grid[m - 1][n - 1]\n",
    "\n",
    "# Example usage:\n",
    "grid = [\n",
    "    [1, 3, 1],\n",
    "    [1, 5, 1],\n",
    "    [4, 2, 1]\n",
    "]\n",
    "print(min_path_sum(grid))  # Output: 7"
   ]
  },
  {
   "cell_type": "markdown",
   "metadata": {},
   "source": [
    "Q50:## Unique Paths II\n",
    "Write a function `unique_paths_with_obstacles(obstacle_grid)` that takes a 2D list (obstacle_grid) and returns the number of unique paths from the top-left to the bottom-right corner of the grid, considering some cells contain obstacles."
   ]
  },
  {
   "cell_type": "markdown",
   "metadata": {},
   "source": [
    "This function uses dynamic programming to calculate the number of unique paths. It initializes a 2D list dp where dp[i][j] represents the number of unique paths to the cell (i, j). It first checks if the starting cell has an obstacle, in which case there are no paths. It then initializes the first row and the first column based on the presence of obstacles. For the rest of the grid, it updates each cell in the dp list based on the number of unique paths from the top and left cells, considering obstacles. Finally, it returns the value of dp[m - 1][n - 1], which represents the number of unique paths to the bottom-right corner of the grid."
   ]
  },
  {
   "cell_type": "code",
   "execution_count": null,
   "metadata": {},
   "outputs": [],
   "source": [
    "def unique_paths_with_obstacles(obstacle_grid):\n",
    "    if not obstacle_grid or not obstacle_grid[0]:\n",
    "        return 0\n",
    "    \n",
    "    m, n = len(obstacle_grid), len(obstacle_grid[0])\n",
    "    \n",
    "    # If the starting cell has an obstacle, then there are no paths\n",
    "    if obstacle_grid[0][0] == 1:\n",
    "        return 0\n",
    "    \n",
    "    # Initialize the dp array\n",
    "    dp = [[0] * n for _ in range(m)]\n",
    "    dp[0][0] = 1\n",
    "    \n",
    "    # Fill the first row\n",
    "    for j in range(1, n):\n",
    "        dp[0][j] = dp[0][j - 1] if obstacle_grid[0][j] == 0 else 0\n",
    "    \n",
    "    # Fill the first column\n",
    "    for i in range(1, m):\n",
    "        dp[i][0] = dp[i - 1][0] if obstacle_grid[i][0] == 0 else 0\n",
    "    \n",
    "    # Fill the rest of the dp array\n",
    "    for i in range(1, m):\n",
    "        for j in range(1, n):\n",
    "            if obstacle_grid[i][j] == 0:\n",
    "                dp[i][j] = dp[i - 1][j] + dp[i][j - 1]\n",
    "            else:\n",
    "                dp[i][j] = 0\n",
    "    \n",
    "    return dp[m - 1][n - 1]\n",
    "\n",
    "# Example usage:\n",
    "obstacle_grid = [\n",
    "    [0, 0, 0],\n",
    "    [0, 1, 0],\n",
    "    [0, 0, 0]\n",
    "]\n",
    "print(unique_paths_with_obstacles(obstacle_grid))  # Output: 2"
   ]
  },
  {
   "cell_type": "markdown",
   "metadata": {},
   "source": [
    "Q51: ## Word Search\n",
    "Write a function `exist(board, word)` that takes a 2D list (board) and a string (word), and returns `True` if the word exists in the grid, and `False` otherwise. The word can be constructed from letters of sequentially adjacent cells, where \"adjacent\" cells are those horizontally or vertically neighboring. The same letter cell may not be used more than once."
   ]
  },
  {
   "cell_type": "markdown",
   "metadata": {},
   "source": [
    "This function uses depth-first search (DFS) to explore all possible paths in the grid to find the given word. It defines a helper function dfs that takes the current row, column, and index of the word being matched. The function checks if the current cell matches the current character of the word and recursively explores all four possible directions (up, down, left, right). It temporarily marks the current cell as visited by setting it to '#' and restores it after the recursive calls. The main function iterates through each cell in the grid and starts the DFS if the cell matches the first character of the word. If any path matches the word, it returns True; otherwise, it returns False."
   ]
  },
  {
   "cell_type": "code",
   "execution_count": null,
   "metadata": {},
   "outputs": [],
   "source": [
    "def exist(board, word):\n",
    "    if not board or not board[0]:\n",
    "        return False\n",
    "    \n",
    "    rows, cols = len(board), len(board[0])\n",
    "    \n",
    "    def dfs(r, c, index):\n",
    "        if index == len(word):\n",
    "            return True\n",
    "        if r < 0 or r >= rows or c < 0 or c >= cols or board[r][c] != word[index]:\n",
    "            return False\n",
    "        \n",
    "        # Temporarily mark the cell as visited\n",
    "        temp = board[r][c]\n",
    "        board[r][c] = '#'\n",
    "        \n",
    "        # Explore all possible directions: up, down, left, right\n",
    "        found = (dfs(r + 1, c, index + 1) or\n",
    "                 dfs(r - 1, c, index + 1) or\n",
    "                 dfs(r, c + 1, index + 1) or\n",
    "                 dfs(r, c - 1, index + 1))\n",
    "        \n",
    "        # Restore the cell's original value\n",
    "        board[r][c] = temp\n",
    "        \n",
    "        return found\n",
    "    \n",
    "    for i in range(rows):\n",
    "        for j in range(cols):\n",
    "            if board[i][j] == word[0] and dfs(i, j, 0):\n",
    "                return True\n",
    "    \n",
    "    return False\n",
    "\n",
    "# Example usage:\n",
    "board = [\n",
    "    ['A', 'B', 'C', 'E'],\n",
    "    ['S', 'F', 'C', 'S'],\n",
    "    ['A', 'D', 'E', 'E']\n",
    "]\n",
    "word = \"ABCCED\"\n",
    "print(exist(board, word))  # Output: True"
   ]
  },
  {
   "cell_type": "markdown",
   "metadata": {},
   "source": [
    "Q52: ## Longest Increasing Subsequence\n",
    "Write a function `length_of_lis(nums)` that takes a list of numbers and returns the length of the longest strictly increasing subsequence."
   ]
  },
  {
   "cell_type": "markdown",
   "metadata": {},
   "source": [
    "This function uses dynamic programming to calculate the length of the longest strictly increasing subsequence. It initializes a list dp where dp[i] represents the length of the longest increasing subsequence that ends with the element at index i. The function iterates through the list of numbers and updates the dp list based on the lengths of the increasing subsequences ending at the previous indices. Finally, it returns the maximum value in the dp list, which represents the length of the longest strictly increasing subsequence."
   ]
  },
  {
   "cell_type": "code",
   "execution_count": null,
   "metadata": {},
   "outputs": [],
   "source": [
    "def length_of_lis(nums):\n",
    "    if not nums:\n",
    "        return 0\n",
    "    \n",
    "    n = len(nums)\n",
    "    dp = [1] * n\n",
    "    \n",
    "    for i in range(1, n):\n",
    "        for j in range(i):\n",
    "            if nums[i] > nums[j]:\n",
    "                dp[i] = max(dp[i], dp[j] + 1)\n",
    "    \n",
    "    return max(dp)\n",
    "\n",
    "# Example usage:\n",
    "nums = [10, 9, 2, 5, 3, 7, 101, 18]\n",
    "print(length_of_lis(nums))  # Output: 4"
   ]
  },
  {
   "cell_type": "markdown",
   "metadata": {},
   "source": [
    "Q53: ## Coin Change\n",
    "Write a function `coin_change(coins, amount)` that takes a list of coin denominations and an integer amount, and returns the fewest number of coins needed to make up that amount. If that amount cannot be made up by any combination of the coins, return -1."
   ]
  },
  {
   "cell_type": "markdown",
   "metadata": {},
   "source": [
    "This function uses dynamic programming to calculate the fewest number of coins needed to make up the given amount. It initializes a list dp where dp[i] represents the minimum number of coins needed to make up the amount i. The function iterates through each coin and updates the dp list based on the minimum number of coins needed to make up the previous amounts. Finally, it returns the value of dp[amount], which represents the fewest number of coins needed to make up the given amount. If the amount cannot be made up by any combination of the coins, it returns -1."
   ]
  },
  {
   "cell_type": "code",
   "execution_count": null,
   "metadata": {},
   "outputs": [],
   "source": [
    "def coin_change(coins, amount):\n",
    "    # Initialize the dp array with a value greater than the maximum possible number of coins\n",
    "    dp = [float('inf')] * (amount + 1)\n",
    "    dp[0] = 0\n",
    "    \n",
    "    # Iterate through each coin and update the dp array\n",
    "    for coin in coins:\n",
    "        for x in range(coin, amount + 1):\n",
    "            dp[x] = min(dp[x], dp[x - coin] + 1)\n",
    "    \n",
    "    # If dp[amount] is still float('inf'), it means the amount cannot be made up by any combination of the coins\n",
    "    return dp[amount] if dp[amount] != float('inf') else -1\n",
    "\n",
    "# Example usage:\n",
    "coins = [1, 2, 5]\n",
    "amount = 11\n",
    "print(coin_change(coins, amount))  # Output: 3"
   ]
  },
  {
   "cell_type": "markdown",
   "metadata": {},
   "source": [
    "Q54: ## Product of Array Except Self\n",
    "Write a function `product_except_self(nums)` that takes a list of numbers and returns a list such that each element at index `i` is the product of all the numbers in the original array except `nums[i]`."
   ]
  },
  {
   "cell_type": "markdown",
   "metadata": {},
   "source": [
    "This function uses two passes to calculate the product of all the numbers except the one at the current index. In the first pass, it calculates the prefix product for each element and stores it in the result list. In the second pass, it calculates the suffix product for each element and multiplies it with the prefix product stored in the result list. This approach ensures that the function runs in O(n) time complexity and uses O(1) extra space (excluding the output array)."
   ]
  },
  {
   "cell_type": "code",
   "execution_count": null,
   "metadata": {},
   "outputs": [
    {
     "ename": "",
     "evalue": "",
     "output_type": "error",
     "traceback": [
      "\u001b[1;31mFailed to start the Kernel. \n",
      "\u001b[1;31mView Jupyter <a href='command:jupyter.viewOutput'>log</a> for further details."
     ]
    }
   ],
   "source": [
    "def product_except_self(nums):\n",
    "    n = len(nums)\n",
    "    result = [1] * n\n",
    "    \n",
    "    # Calculate the prefix product for each element\n",
    "    prefix = 1\n",
    "    for i in range(n):\n",
    "        result[i] = prefix\n",
    "        prefix *= nums[i]\n",
    "    \n",
    "    # Calculate the suffix product for each element and multiply with the prefix product\n",
    "    suffix = 1\n",
    "    for i in range(n - 1, -1, -1):\n",
    "        result[i] *= suffix\n",
    "        suffix *= nums[i]\n",
    "    \n",
    "    return result\n",
    "\n",
    "# Example usage:\n",
    "nums = [1, 2, 3, 4]\n",
    "print(product_except_self(nums))  # Output: [24, 12, 8, 6]"
   ]
  },
  {
   "cell_type": "markdown",
   "metadata": {},
   "source": [
    "Q55: ## Maximum Product Subarray\n",
    "Write a function `max_product(nums)` that takes a list of numbers and returns the maximum product of a contiguous subarray."
   ]
  },
  {
   "cell_type": "markdown",
   "metadata": {},
   "source": [
    "This function uses dynamic programming to calculate the maximum product of a contiguous subarray. It initializes variables max_prod and min_prod to store the maximum and minimum product up to the current position, and result to store the overall maximum product. It iterates through the list of numbers, updating max_prod and min_prod based on the current number and the previous products. If the current number is negative, it swaps max_prod and min_prod to account for the sign change. Finally, it updates result with the maximum product found so far and returns it."
   ]
  },
  {
   "cell_type": "code",
   "execution_count": null,
   "metadata": {},
   "outputs": [],
   "source": [
    "def max_product(nums):\n",
    "    if not nums:\n",
    "        return 0\n",
    "    \n",
    "    # Initialize the variables to store the maximum and minimum product up to the current position\n",
    "    max_prod = min_prod = result = nums[0]\n",
    "    \n",
    "    for num in nums[1:]:\n",
    "        if num < 0:\n",
    "            max_prod, min_prod = min_prod, max_prod\n",
    "        \n",
    "        max_prod = max(num, max_prod * num)\n",
    "        min_prod = min(num, min_prod * num)\n",
    "        \n",
    "        result = max(result, max_prod)\n",
    "    \n",
    "    return result\n",
    "\n",
    "# Example usage:\n",
    "nums = [2, 3, -2, 4]\n",
    "print(max_product(nums))  # Output: 6"
   ]
  },
  {
   "cell_type": "markdown",
   "metadata": {},
   "source": [
    "Q56: ## Find Minimum in Rotated Sorted Array\n",
    "Write a function `find_min(nums)` that takes a list of numbers sorted in ascending order and rotated at some pivot unknown to you beforehand, and returns the minimum element."
   ]
  },
  {
   "cell_type": "markdown",
   "metadata": {},
   "source": [
    "This function uses a binary search approach to find the minimum element in a rotated sorted array. It initializes two pointers, left and right, to the start and end of the array, respectively. It then iterates while left is less than right, calculating the middle index mid. If the middle element is greater than the rightmost element, it means the minimum element is in the right half of the array, so it updates left to mid + 1. Otherwise, it updates right to mid. Finally, it returns the element at the left pointer, which is the minimum element in the array."
   ]
  },
  {
   "cell_type": "code",
   "execution_count": null,
   "metadata": {},
   "outputs": [],
   "source": [
    "def find_min(nums):\n",
    "    if not nums:\n",
    "        return None\n",
    "    \n",
    "    left, right = 0, len(nums) - 1\n",
    "    \n",
    "    while left < right:\n",
    "        mid = (left + right) // 2\n",
    "        \n",
    "        if nums[mid] > nums[right]:\n",
    "            left = mid + 1\n",
    "        else:\n",
    "            right = mid\n",
    "    \n",
    "    return nums[left]\n",
    "\n",
    "# Example usage:\n",
    "nums = [3, 4, 5, 1, 2]\n",
    "print(find_min(nums))  # Output: 1"
   ]
  },
  {
   "cell_type": "markdown",
   "metadata": {},
   "source": [
    "Q57: ## Search in Rotated Sorted Array\n",
    "Write a function `search(nums, target)` that takes a list of numbers sorted in ascending order and rotated at some pivot unknown to you beforehand, and an integer target, and returns the index if the target is found. If not, return -1."
   ]
  },
  {
   "cell_type": "markdown",
   "metadata": {},
   "source": [
    "This function uses a binary search approach to find the target in a rotated sorted array. It initializes two pointers, left and right, to the start and end of the array, respectively. It then iterates while left is less than or equal to right, calculating the middle index mid. If the middle element is equal to the target, it returns the middle index. Otherwise, it determines which part of the array is sorted. If the left part is sorted, it checks if the target is within the range of the left part and updates the pointers accordingly. If the right part is sorted, it checks if the target is within the range of the right part and updates the pointers accordingly. If the target is not found, it returns -1."
   ]
  },
  {
   "cell_type": "code",
   "execution_count": null,
   "metadata": {},
   "outputs": [],
   "source": [
    "def search(nums, target):\n",
    "    if not nums:\n",
    "        return -1\n",
    "    \n",
    "    left, right = 0, len(nums) - 1\n",
    "    \n",
    "    while left <= right:\n",
    "        mid = (left + right) // 2\n",
    "        \n",
    "        if nums[mid] == target:\n",
    "            return mid\n",
    "        \n",
    "        # Determine which part is sorted\n",
    "        if nums[left] <= nums[mid]:\n",
    "            # Left part is sorted\n",
    "            if nums[left] <= target < nums[mid]:\n",
    "                right = mid - 1\n",
    "            else:\n",
    "                left = mid + 1\n",
    "        else:\n",
    "            # Right part is sorted\n",
    "            if nums[mid] < target <= nums[right]:\n",
    "                left = mid + 1\n",
    "            else:\n",
    "                right = mid - 1\n",
    "    \n",
    "    return -1\n",
    "\n",
    "# Example usage:\n",
    "nums = [4, 5, 6, 7, 0, 1, 2]\n",
    "target = 0\n",
    "print(search(nums, target))  # Output: 4"
   ]
  },
  {
   "cell_type": "markdown",
   "metadata": {},
   "source": [
    "Q58: ## House Robber II\n",
    "Write a function `rob(nums)` that takes a list of non-negative integers representing the amount of money of each house and returns the maximum amount of money you can rob tonight without alerting the police (you cannot rob two adjacent houses), considering that all houses are arranged in a circle."
   ]
  },
  {
   "cell_type": "markdown",
   "metadata": {},
   "source": [
    "This function handles the circular arrangement of houses by considering two cases:\n",
    "\n",
    "Robbing houses from index 0 to n-2 (excluding the last house).\n",
    "Robbing houses from index 1 to n-1 (excluding the first house).\n",
    "It uses a helper function rob_linear to calculate the maximum amount of money that can be robbed from a linear arrangement of houses. The main function then returns the maximum value between the two cases. This approach ensures that the circular constraint is respected."
   ]
  },
  {
   "cell_type": "code",
   "execution_count": null,
   "metadata": {},
   "outputs": [],
   "source": [
    "def rob(nums):\n",
    "    if not nums:\n",
    "        return 0\n",
    "    if len(nums) == 1:\n",
    "        return nums[0]\n",
    "    \n",
    "    def rob_linear(houses):\n",
    "        n = len(houses)\n",
    "        if n == 0:\n",
    "            return 0\n",
    "        if n == 1:\n",
    "            return houses[0]\n",
    "        \n",
    "        dp = [0] * n\n",
    "        dp[0] = houses[0]\n",
    "        dp[1] = max(houses[0], houses[1])\n",
    "        \n",
    "        for i in range(2, n):\n",
    "            dp[i] = max(dp[i - 1], dp[i - 2] + houses[i])\n",
    "        \n",
    "        return dp[-1]\n",
    "    \n",
    "    # Case 1: Rob houses from 0 to n-2\n",
    "    case1 = rob_linear(nums[:-1])\n",
    "    # Case 2: Rob houses from 1 to n-1\n",
    "    case2 = rob_linear(nums[1:])\n",
    "    \n",
    "    return max(case1, case2)\n",
    "\n",
    "# Example usage:\n",
    "nums = [2, 3, 2]\n",
    "print(rob(nums))  # Output: 3"
   ]
  },
  {
   "cell_type": "markdown",
   "metadata": {},
   "source": [
    "Q59:## Number of Islands\n",
    "Write a function `num_islands(grid)` that takes a 2D list (grid) consisting of '1's (land) and '0's (water), and returns the number of islands. An island is surrounded by water and is formed by connecting adjacent lands horizontally or vertically."
   ]
  },
  {
   "cell_type": "markdown",
   "metadata": {},
   "source": [
    "This function uses depth-first search (DFS) to explore and count the number of islands in the grid. It defines a helper function dfs that marks the current land cell as visited and recursively explores all four possible directions (up, down, left, right). The main function iterates through each cell in the grid, and when it encounters a land cell ('1'), it increments the island count and calls the dfs function to mark all connected land cells as visited. Finally, it returns the total number of islands."
   ]
  },
  {
   "cell_type": "code",
   "execution_count": null,
   "metadata": {},
   "outputs": [],
   "source": [
    "def num_islands(grid):\n",
    "    if not grid:\n",
    "        return 0\n",
    "    \n",
    "    rows, cols = len(grid), len(grid[0])\n",
    "    num_islands = 0\n",
    "    \n",
    "    def dfs(r, c):\n",
    "        if r < 0 or r >= rows or c < 0 or c >= cols or grid[r][c] == '0':\n",
    "            return\n",
    "        grid[r][c] = '0'  # Mark the land as visited\n",
    "        # Explore all four directions\n",
    "        dfs(r + 1, c)\n",
    "        dfs(r - 1, c)\n",
    "        dfs(r, c + 1)\n",
    "        dfs(r, c - 1)\n",
    "    \n",
    "    for r in range(rows):\n",
    "        for c in range(cols):\n",
    "            if grid[r][c] == '1':\n",
    "                num_islands += 1\n",
    "                dfs(r, c)\n",
    "    \n",
    "    return num_islands\n",
    "\n",
    "# Example usage:\n",
    "grid = [\n",
    "    [\"1\", \"1\", \"0\", \"0\", \"0\"],\n",
    "    [\"1\", \"1\", \"0\", \"0\", \"0\"],\n",
    "    [\"0\", \"0\", \"1\", \"0\", \"0\"],\n",
    "    [\"0\", \"0\", \"0\", \"1\", \"1\"]\n",
    "]\n",
    "print(num_islands(grid))  # Output: 3"
   ]
  },
  {
   "cell_type": "markdown",
   "metadata": {},
   "source": [
    "Q60: ## Implement Trie (Prefix Tree)\n",
    "\n",
    "Write a class `Trie` with the following methods:\n",
    "\n",
    "- `insert(word)`: Inserts the word into the trie.\n",
    "- `search(word)`: Returns `True` if the word is in the trie, and `False` otherwise.\n",
    "- `starts_with(prefix)`: Returns `True` if there is any word in the trie that starts with the given prefix, and `False` otherwise."
   ]
  },
  {
   "cell_type": "markdown",
   "metadata": {},
   "source": [
    "This implementation includes a TrieNode class to represent each node in the trie, and a Trie class with the following methods:\n",
    "\n",
    "insert(word): Inserts the word into the trie by iterating through each character of the word and creating new nodes as necessary. It marks the end of the word by setting is_end_of_word to True.\n",
    "search(word): Searches for the word in the trie by iterating through each character of the word. If a character is not found in the current node's children, it returns False. If all characters are found and the last node is marked as the end of a word, it returns True.\n",
    "starts_with(prefix): Checks if there is any word in the trie that starts with the given prefix by iterating through each character of the prefix. If a character is not found in the current node's children, it returns False. If all characters are found, it returns True."
   ]
  },
  {
   "cell_type": "code",
   "execution_count": null,
   "metadata": {},
   "outputs": [],
   "source": [
    "class TrieNode:\n",
    "    def __init__(self):\n",
    "        self.children = {}\n",
    "        self.is_end_of_word = False\n",
    "\n",
    "class Trie:\n",
    "    def __init__(self):\n",
    "        self.root = TrieNode()\n",
    "    \n",
    "    def insert(self, word):\n",
    "        node = self.root\n",
    "        for char in word:\n",
    "            if char not in node.children:\n",
    "                node.children[char] = TrieNode()\n",
    "            node = node.children[char]\n",
    "        node.is_end_of_word = True\n",
    "    \n",
    "    def search(self, word):\n",
    "        node = self.root\n",
    "        for char in word:\n",
    "            if char not in node.children:\n",
    "                return False\n",
    "            node = node.children[char]\n",
    "        return node.is_end_of_word\n",
    "    \n",
    "    def starts_with(self, prefix):\n",
    "        node = self.root\n",
    "        for char in prefix:\n",
    "            if char not in node.children:\n",
    "                return False\n",
    "            node = node.children[char]\n",
    "        return True\n",
    "\n",
    "# Example usage:\n",
    "trie = Trie()\n",
    "trie.insert(\"apple\")\n",
    "print(trie.search(\"apple\"))  # Output: True\n",
    "print(trie.search(\"app\"))    # Output: False\n",
    "print(trie.starts_with(\"app\"))  # Output: True\n",
    "trie.insert(\"app\")\n",
    "print(trie.search(\"app\"))    # Output: True"
   ]
  }
 ],
 "metadata": {
  "kernelspec": {
   "display_name": "Python 3 (ipykernel)",
   "language": "python",
   "name": "python3"
  }
 },
 "nbformat": 4,
 "nbformat_minor": 2
}
