{
 "cells": [
  {
   "cell_type": "markdown",
   "metadata": {},
   "source": [
    "Q21: Fizzbuzz\n",
    "Write a Python program that prints the numbers from 1 to 100. But for multiples of three, print \"Fizz\" instead of the number, and for the multiples of five, print \"Buzz\". For numbers which are multiples of both three and five, print \"FizzBuzz\"."
   ]
  },
  {
   "cell_type": "code",
   "execution_count": 6,
   "metadata": {},
   "outputs": [
    {
     "name": "stdout",
     "output_type": "stream",
     "text": [
      "1\n",
      "2\n",
      "Fizz\n",
      "4\n",
      "Buzz\n",
      "Fizz\n",
      "7\n",
      "8\n",
      "Fizz\n",
      "Buzz\n",
      "11\n",
      "Fizz\n",
      "13\n",
      "14\n",
      "FizzBuzz\n",
      "16\n",
      "17\n",
      "Fizz\n",
      "19\n",
      "Buzz\n",
      "Fizz\n",
      "22\n",
      "23\n",
      "Fizz\n",
      "Buzz\n",
      "26\n",
      "Fizz\n",
      "28\n",
      "29\n",
      "FizzBuzz\n",
      "31\n",
      "32\n",
      "Fizz\n",
      "34\n",
      "Buzz\n",
      "Fizz\n",
      "37\n",
      "38\n",
      "Fizz\n",
      "Buzz\n",
      "41\n",
      "Fizz\n",
      "43\n",
      "44\n",
      "FizzBuzz\n",
      "46\n",
      "47\n",
      "Fizz\n",
      "49\n",
      "Buzz\n",
      "Fizz\n",
      "52\n",
      "53\n",
      "Fizz\n",
      "Buzz\n",
      "56\n",
      "Fizz\n",
      "58\n",
      "59\n",
      "FizzBuzz\n",
      "61\n",
      "62\n",
      "Fizz\n",
      "64\n",
      "Buzz\n",
      "Fizz\n",
      "67\n",
      "68\n",
      "Fizz\n",
      "Buzz\n",
      "71\n",
      "Fizz\n",
      "73\n",
      "74\n",
      "FizzBuzz\n",
      "76\n",
      "77\n",
      "Fizz\n",
      "79\n",
      "Buzz\n",
      "Fizz\n",
      "82\n",
      "83\n",
      "Fizz\n",
      "Buzz\n",
      "86\n",
      "Fizz\n",
      "88\n",
      "89\n",
      "FizzBuzz\n",
      "91\n",
      "92\n",
      "Fizz\n",
      "94\n",
      "Buzz\n",
      "Fizz\n",
      "97\n",
      "98\n",
      "Fizz\n"
     ]
    }
   ],
   "source": [
    "for n in range(1,100):\n",
    "  if n % 3 == 0 and n % 5 == 0:\n",
    "    print('FizzBuzz')\n",
    "  elif n % 3 == 0:\n",
    "    print('Fizz')\n",
    "  elif n % 5 == 0:\n",
    "    print('Buzz')\n",
    "  else:\n",
    "    print(n)\n"
   ]
  },
  {
   "cell_type": "markdown",
   "metadata": {},
   "source": [
    "Q22: Write a function count_occurrences(arr, x) that takes a list and an element, and returns the number of times the element appears in the list."
   ]
  },
  {
   "cell_type": "code",
   "execution_count": 7,
   "metadata": {},
   "outputs": [
    {
     "name": "stdout",
     "output_type": "stream",
     "text": [
      "3\n"
     ]
    }
   ],
   "source": [
    "def count_occurences(arr:list, x:int) -> int:\n",
    "  count = 0\n",
    "  for i in arr:\n",
    "    if i == x:\n",
    "      count += 1\n",
    "  return count\n",
    "\n",
    "print(count_occurences([2,4,6,2,4,6,8,8,1,4,6,3], 4))"
   ]
  },
  {
   "cell_type": "markdown",
   "metadata": {},
   "source": [
    "Q23: Define a singly linked list and write a function reverse_linked_list(head) that takes the head of the list and returns the head of the reversed list."
   ]
  },
  {
   "cell_type": "code",
   "execution_count": 8,
   "metadata": {},
   "outputs": [],
   "source": [
    "class Node:\n",
    "  def __init__(self, data):\n",
    "    self.data = data\n",
    "    self.next = None\n",
    "\n",
    "def reverse_linked_list(head: Node) -> Node:\n",
    "  prev = None\n",
    "  current = head\n",
    "  while current is not None:\n",
    "    next_node = current.next\n",
    "    current.next = prev\n",
    "    prev = current\n",
    "    current = next_node\n",
    "  return prev\n",
    "\n",
    "def print_linked_list(head: Node):\n",
    "  current = head\n",
    "  while current:\n",
    "    print(current.data, end = \"->\")\n",
    "    current = current.next\n",
    "  print(\"None\")"
   ]
  },
  {
   "cell_type": "code",
   "execution_count": 9,
   "metadata": {},
   "outputs": [
    {
     "name": "stdout",
     "output_type": "stream",
     "text": [
      "Original linked list:\n",
      "1->2->3->4->None\n",
      "Reversed linked list:\n",
      "4->3->2->1->None\n"
     ]
    }
   ],
   "source": [
    "# Example usage:\n",
    "# Creating a linked list: 1 -> 2 -> 3 -> 4 -> None\n",
    "head = Node(1)\n",
    "head.next = Node(2)\n",
    "head.next.next = Node(3)\n",
    "head.next.next.next = Node(4)\n",
    "\n",
    "print(\"Original linked list:\")\n",
    "print_linked_list(head)\n",
    "\n",
    "# Reversing the linked list\n",
    "reversed_head = reverse_linked_list(head)\n",
    "\n",
    "print(\"Reversed linked list:\")\n",
    "print_linked_list(reversed_head)"
   ]
  },
  {
   "cell_type": "markdown",
   "metadata": {},
   "source": [
    "Q24: Convert Binary to Decimal\n",
    "Write a function binary_to_decimal(binary_str) that takes a string representation of a binary number and returns its decimal equivalent."
   ]
  },
  {
   "cell_type": "code",
   "execution_count": 12,
   "metadata": {},
   "outputs": [
    {
     "name": "stdout",
     "output_type": "stream",
     "text": [
      "10\n"
     ]
    }
   ],
   "source": [
    "def binary_to_decimal(binary_str: str) -> int:\n",
    "  return int(binary_str, 2)\n",
    "\n",
    "binary_str = str(input('put in your string'))\n",
    "print(binary_to_decimal(binary_str))"
   ]
  },
  {
   "cell_type": "markdown",
   "metadata": {},
   "source": [
    "Q25: Matrix Transpose\n",
    "Write a function transpose(matrix) that takes a 2D list (matrix) and returns its transpose."
   ]
  },
  {
   "cell_type": "code",
   "execution_count": 13,
   "metadata": {},
   "outputs": [
    {
     "name": "stdout",
     "output_type": "stream",
     "text": [
      "[[1, 4], [2, 5], [3, 6]]\n"
     ]
    }
   ],
   "source": [
    "def transpose(matrix):\n",
    "  return [[row[i] for row in matrix] for i in range(len(matrix[0]))]\n",
    "\n",
    "a = [[1, 2, 3], [4, 5, 6]]\n",
    "a_t = transpose(a)\n",
    "print(a_t)"
   ]
  },
  {
   "cell_type": "markdown",
   "metadata": {},
   "source": [
    "Q26: Find duplicates in a list"
   ]
  },
  {
   "cell_type": "code",
   "execution_count": 23,
   "metadata": {},
   "outputs": [
    {
     "name": "stdout",
     "output_type": "stream",
     "text": [
      "[0, 3, 4, 8]\n"
     ]
    }
   ],
   "source": [
    "def find_duplicate(lst:list) -> list:\n",
    "  duplicates = []\n",
    "  for i in lst:\n",
    "    if lst.count(i) != 1:\n",
    "      duplicates.append(i)\n",
    "  return sorted(list(set(duplicates)))\n",
    "\n",
    "lst = [4,6,8,4,3,8,0,2,3,9,5,7,1,0]\n",
    "print(find_duplicate(lst))"
   ]
  },
  {
   "cell_type": "markdown",
   "metadata": {},
   "source": [
    "Q27: Flatten a Nested List\n",
    "\n",
    "The isinstance function in Python is used to check if an object is an instance or subclass of a class or a tuple of classes. It returns True if the object is an instance or subclass of the class (or any class in the tuple), and False otherwise.\n",
    "\n",
    "The extend() method in Python is used to add all elements of an iterable (such as a list, tuple, or set) to the end of the list. It extends the list by appending elements from the iterable.\n",
    "Syntax:\n",
    "list.extend(iterable)\n",
    "list: The list to which elements will be added.\n",
    "iterable: An iterable (e.g., list, tuple, set) whose elements will be added to the list."
   ]
  },
  {
   "cell_type": "code",
   "execution_count": 28,
   "metadata": {},
   "outputs": [
    {
     "name": "stdout",
     "output_type": "stream",
     "text": [
      "[1, 2, 3, 4, 5, 6, 7, 8]\n"
     ]
    }
   ],
   "source": [
    "def flatten_nestedList(lst:list) -> list:\n",
    "  flatten_list= []\n",
    "  for item in lst:\n",
    "    if isinstance(item, list):\n",
    "      flatten_list.extend(flatten_nestedList(item))\n",
    "    else:\n",
    "      flatten_list.append(item)\n",
    "  return flatten_list\n",
    "\n",
    "lst = [1, [2, [3, 4], 5], 6, [7, 8]]\n",
    "print(flatten_nestedList(lst))\n"
   ]
  },
  {
   "cell_type": "markdown",
   "metadata": {},
   "source": [
    "Q28: Generate All Subsets"
   ]
  },
  {
   "cell_type": "code",
   "execution_count": 33,
   "metadata": {},
   "outputs": [
    {
     "name": "stdout",
     "output_type": "stream",
     "text": [
      "[[], [2], [6], [8], [7], [10], [2, 6], [2, 8], [2, 7], [2, 10], [6, 8], [6, 7], [6, 10], [8, 7], [8, 10], [7, 10], [2, 6, 8], [2, 6, 7], [2, 6, 10], [2, 8, 7], [2, 8, 10], [2, 7, 10], [6, 8, 7], [6, 8, 10], [6, 7, 10], [8, 7, 10], [2, 6, 8, 7], [2, 6, 8, 10], [2, 6, 7, 10], [2, 8, 7, 10], [6, 8, 7, 10], [2, 6, 8, 7, 10]]\n"
     ]
    }
   ],
   "source": [
    "from itertools import combinations\n",
    "\n",
    "def gen_subset(lst:list) -> list:\n",
    "  sublists = []\n",
    "  for i in range(len(lst)+1):\n",
    "    sublists.extend(combinations(lst, i))\n",
    "  return [list(sublist) for sublist in sublists]\n",
    "\n",
    "lst = [2,6,8,7,10]\n",
    "print(gen_subset(lst))"
   ]
  },
  {
   "cell_type": "markdown",
   "metadata": {},
   "source": [
    "split list into multiple sublists where each sublist contains one item from the original list"
   ]
  },
  {
   "cell_type": "code",
   "execution_count": 34,
   "metadata": {},
   "outputs": [
    {
     "name": "stdout",
     "output_type": "stream",
     "text": [
      "[[2], [6], [8], [7], [10]]\n"
     ]
    }
   ],
   "source": [
    "def listItem_to_sublist(lst:list) -> list:\n",
    "  return [[item] for item in lst]\n",
    "\n",
    "lst = [2,6,8,7,10]\n",
    "sublist = listItem_to_sublist(lst)\n",
    "print(sublist) "
   ]
  },
  {
   "cell_type": "markdown",
   "metadata": {},
   "source": [
    "Q29: Check for Balanced Parentheses\n",
    "Write a function is_balanced(s) that takes a string containing just the characters '(', ')', '{', '}', '[' and ']' and determines if the input string is valid."
   ]
  },
  {
   "cell_type": "code",
   "execution_count": 36,
   "metadata": {},
   "outputs": [
    {
     "name": "stdout",
     "output_type": "stream",
     "text": [
      "True\n",
      "True\n",
      "False\n",
      "False\n",
      "True\n"
     ]
    }
   ],
   "source": [
    "\n",
    "def is_balanced(s: str) -> bool:\n",
    "  stack = []\n",
    "  matching_parentheses = {')': '(', '}': '{', ']': '['}\n",
    "  \n",
    "  for char in s:\n",
    "      if char in matching_parentheses.values():\n",
    "          stack.append(char)\n",
    "      elif char in matching_parentheses.keys():\n",
    "          if not stack or stack.pop() != matching_parentheses[char]:\n",
    "              return False\n",
    "      else:\n",
    "          # Ignore characters that are not parentheses\n",
    "          continue\n",
    "  \n",
    "  return not stack\n",
    "\n",
    "# Example usage:\n",
    "print(is_balanced(\"()\"))  # Output: True\n",
    "print(is_balanced(\"()[]{}\"))  # Output: True\n",
    "print(is_balanced(\"(]\"))  # Output: False\n",
    "print(is_balanced(\"([)]\"))  # Output: False\n",
    "print(is_balanced(\"{[]}\"))  # Output: True"
   ]
  },
  {
   "cell_type": "markdown",
   "metadata": {},
   "source": [
    "Q30:Find the Maximum Subarray Sum\n",
    "Write a function max_subarray_sum(arr) that takes a list of integers and returns the sum of the contiguous subarray with the largest sum.\n",
    "Plan:\n",
    "Initialize two variables: max_current and max_global to the first element of the array.\n",
    "Iterate through the array starting from the second element.\n",
    "For each element, update max_current to be the maximum of the current element and the sum of max_current and the current element.\n",
    "Update max_global to be the maximum of max_global and max_current.\n",
    "Return max_global which contains the sum of the contiguous subarray with the largest sum."
   ]
  },
  {
   "cell_type": "code",
   "execution_count": 37,
   "metadata": {},
   "outputs": [
    {
     "name": "stdout",
     "output_type": "stream",
     "text": [
      "3\n",
      "6\n",
      "23\n",
      "-1\n"
     ]
    }
   ],
   "source": [
    "def max_subarray_sum(arr):\n",
    "    if not arr:\n",
    "        return 0\n",
    "    \n",
    "    max_current = max_global = arr[0]\n",
    "    \n",
    "    for num in arr[1:]:\n",
    "        max_current = max(num, max_current + num)\n",
    "        max_global = max(max_global, max_current)\n",
    "    \n",
    "    return max_global\n",
    "\n",
    "# Example usage:\n",
    "print(max_subarray_sum([1, -3, 2, 1, -1]))  # Output: 3\n",
    "print(max_subarray_sum([-2, 1, -3, 4, -1, 2, 1, -5, 4]))  # Output: 6\n",
    "print(max_subarray_sum([5, 4, -1, 7, 8]))  # Output: 23\n",
    "print(max_subarray_sum([-1, -2, -3, -4]))  # Output: -1"
   ]
  },
  {
   "cell_type": "markdown",
   "metadata": {},
   "source": [
    "Finding the maximum subarray sum can be useful in various real-world scenarios, including:\n",
    "\n",
    "Financial Analysis:\n",
    "\n",
    "Stock Market: To determine the best time to buy and sell stocks to maximize profit. The array represents daily changes in stock prices, and the maximum subarray sum represents the maximum profit that can be achieved.\n",
    "Weather Data Analysis:\n",
    "\n",
    "Temperature Fluctuations: To find the period with the highest increase in temperature over a series of days. The array represents daily temperature changes, and the maximum subarray sum represents the period with the highest temperature increase.\n",
    "Sales and Revenue Analysis:\n",
    "\n",
    "Sales Performance: To identify the period with the highest increase in sales or revenue. The array represents daily or monthly changes in sales, and the maximum subarray sum represents the period with the highest sales growth.\n",
    "Gaming and Scoring Systems:\n",
    "\n",
    "High Scores: To determine the highest score achievable in a game over a series of levels or rounds. The array represents score changes per level, and the maximum subarray sum represents the highest score achievable.\n",
    "Signal Processing:\n",
    "\n",
    "Noise Reduction: To identify the segment of a signal with the highest amplitude. The array represents signal amplitudes, and the maximum subarray sum represents the segment with the highest signal strength.\n",
    "Genomics:\n",
    "\n",
    "Gene Expression Analysis: To find the segment of a DNA sequence with the highest expression levels. The array represents expression levels, and the maximum subarray sum represents the segment with the highest gene expression.\n",
    "These scenarios involve analyzing sequences of data to find the most significant contiguous segment, making the maximum subarray sum algorithm a valuable tool in various fields."
   ]
  },
  {
   "cell_type": "markdown",
   "metadata": {},
   "source": [
    "Q31: Find the K-th Largest Element\n",
    "Write a function kth_largest(arr, k) that takes a list of numbers and an integer k, and returns the k-th largest element in the list."
   ]
  },
  {
   "cell_type": "code",
   "execution_count": 38,
   "metadata": {},
   "outputs": [
    {
     "name": "stdout",
     "output_type": "stream",
     "text": [
      "5\n",
      "4\n",
      "1\n",
      "None\n",
      "None\n"
     ]
    }
   ],
   "source": [
    "def kth_largest(arr, k):\n",
    "    if not arr or k < 1 or k > len(arr):\n",
    "        return None\n",
    "    \n",
    "    arr_sorted = sorted(arr, reverse=True)\n",
    "    return arr_sorted[k-1]\n",
    "\n",
    "# Example usage:\n",
    "print(kth_largest([3, 2, 1, 5, 6, 4], 2))  # Output: 5\n",
    "print(kth_largest([3, 2, 3, 1, 2, 4, 5, 5, 6], 4))  # Output: 4\n",
    "print(kth_largest([1], 1))  # Output: 1\n",
    "print(kth_largest([], 1))  # Output: None\n",
    "print(kth_largest([1, 2, 3, 4, 5], 6))  # Output: None"
   ]
  },
  {
   "cell_type": "markdown",
   "metadata": {},
   "source": [
    "Q32: Implement a Queue Using Stacks\n",
    "\n",
    "Write a class `QueueUsingStacks` that implements a queue using two stacks. Implement the following methods:\n",
    "\n",
    "- `enqueue(x)`: Add an element to the end of the queue.\n",
    "- `dequeue()`: Remove the element from the front of the queue and return it."
   ]
  },
  {
   "cell_type": "markdown",
   "metadata": {},
   "source": [
    "Plan:\n",
    "Create a class QueueUsingStacks.\n",
    "Initialize two stacks (stack1 and stack2) in the constructor.\n",
    "Implement the enqueue(x) method to add an element to stack1.\n",
    "Implement the dequeue() method:\n",
    "If stack2 is empty, transfer all elements from stack1 to stack2.\n",
    "Pop and return the top element from stack2."
   ]
  },
  {
   "cell_type": "code",
   "execution_count": 39,
   "metadata": {},
   "outputs": [
    {
     "name": "stdout",
     "output_type": "stream",
     "text": [
      "1\n",
      "2\n",
      "3\n",
      "4\n",
      "None\n"
     ]
    }
   ],
   "source": [
    "class QueueUsingStacks:\n",
    "    def __init__(self):\n",
    "        self.stack1 = []\n",
    "        self.stack2 = []\n",
    "\n",
    "    def enqueue(self, x):\n",
    "        self.stack1.append(x)\n",
    "\n",
    "    def dequeue(self):\n",
    "        if not self.stack2:\n",
    "            while self.stack1:\n",
    "                self.stack2.append(self.stack1.pop())\n",
    "        if self.stack2:\n",
    "            return self.stack2.pop()\n",
    "        else:\n",
    "            return None  # Queue is empty\n",
    "\n",
    "# Example usage:\n",
    "queue = QueueUsingStacks()\n",
    "queue.enqueue(1)\n",
    "queue.enqueue(2)\n",
    "queue.enqueue(3)\n",
    "print(queue.dequeue())  # Output: 1\n",
    "print(queue.dequeue())  # Output: 2\n",
    "queue.enqueue(4)\n",
    "print(queue.dequeue())  # Output: 3\n",
    "print(queue.dequeue())  # Output: 4\n",
    "print(queue.dequeue())  # Output: None (Queue is empty)"
   ]
  },
  {
   "cell_type": "markdown",
   "metadata": {},
   "source": [
    "Q33: ## Find the Median of Two Sorted Arrays\n",
    "\n",
    "Write a function `find_median_sorted_arrays(nums1, nums2)` that takes two sorted arrays and returns the median of the two sorted arrays."
   ]
  },
  {
   "cell_type": "markdown",
   "metadata": {},
   "source": [
    "Merge the two sorted arrays into one sorted array.\n",
    "Find the median of the merged sorted array.\n",
    "If the length of the merged array is odd, the median is the middle element.\n",
    "If the length of the merged array is even, the median is the average of the two middle elements."
   ]
  },
  {
   "cell_type": "code",
   "execution_count": 40,
   "metadata": {},
   "outputs": [
    {
     "name": "stdout",
     "output_type": "stream",
     "text": [
      "2\n",
      "2.5\n",
      "0.0\n",
      "1\n",
      "2\n"
     ]
    }
   ],
   "source": [
    "def find_median_sorted_arrays(nums1, nums2):\n",
    "    # Merge the two sorted arrays\n",
    "    merged = sorted(nums1 + nums2)\n",
    "    \n",
    "    # Find the length of the merged array\n",
    "    n = len(merged)\n",
    "    \n",
    "    # Calculate the median\n",
    "    if n % 2 == 1:\n",
    "        # If odd, return the middle element\n",
    "        return merged[n // 2]\n",
    "    else:\n",
    "        # If even, return the average of the two middle elements\n",
    "        mid1 = n // 2\n",
    "        mid2 = mid1 - 1\n",
    "        return (merged[mid1] + merged[mid2]) / 2\n",
    "\n",
    "# Example usage:\n",
    "print(find_median_sorted_arrays([1, 3], [2]))  # Output: 2.0\n",
    "print(find_median_sorted_arrays([1, 2], [3, 4]))  # Output: 2.5\n",
    "print(find_median_sorted_arrays([0, 0], [0, 0]))  # Output: 0.0\n",
    "print(find_median_sorted_arrays([], [1]))  # Output: 1.0\n",
    "print(find_median_sorted_arrays([2], []))  # Output: 2.0"
   ]
  }
 ],
 "metadata": {
  "kernelspec": {
   "display_name": "Python 3",
   "language": "python",
   "name": "python3"
  },
  "language_info": {
   "codemirror_mode": {
    "name": "ipython",
    "version": 3
   },
   "file_extension": ".py",
   "mimetype": "text/x-python",
   "name": "python",
   "nbconvert_exporter": "python",
   "pygments_lexer": "ipython3",
   "version": "3.12.1"
  }
 },
 "nbformat": 4,
 "nbformat_minor": 2
}
