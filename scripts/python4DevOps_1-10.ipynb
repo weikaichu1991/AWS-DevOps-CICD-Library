{
 "cells": [
  {
   "cell_type": "markdown",
   "metadata": {},
   "source": [
    "Q1: Reverse a String"
   ]
  },
  {
   "cell_type": "code",
   "execution_count": 3,
   "metadata": {},
   "outputs": [
    {
     "name": "stdout",
     "output_type": "stream",
     "text": [
      "The reversed string is radnelac\n"
     ]
    }
   ],
   "source": [
    "def reverseString(value: str) -> str:\n",
    "  return value[::-1]\n",
    "\n",
    "print(\"The reversed string is \" + reverseString(\"calendar\"))"
   ]
  },
  {
   "cell_type": "markdown",
   "metadata": {},
   "source": [
    "Q2: Fibonacci Sequence"
   ]
  },
  {
   "cell_type": "code",
   "execution_count": 6,
   "metadata": {},
   "outputs": [
    {
     "name": "stdout",
     "output_type": "stream",
     "text": [
      "6765\n"
     ]
    }
   ],
   "source": [
    "def fibonacci(n:int) -> int:\n",
    "  if n <= 0:\n",
    "    return 0\n",
    "  elif n == 1:\n",
    "    return 1\n",
    "  else:\n",
    "    return fibonacci(n-1)+fibonacci(n-2)\n",
    "\n",
    "print(fibonacci(20))"
   ]
  },
  {
   "cell_type": "markdown",
   "metadata": {},
   "source": [
    "Q3: Factorial of a Number"
   ]
  },
  {
   "cell_type": "code",
   "execution_count": 7,
   "metadata": {},
   "outputs": [
    {
     "name": "stdout",
     "output_type": "stream",
     "text": [
      "2432902008176640000\n"
     ]
    }
   ],
   "source": [
    "def factorial(n:int) -> int:\n",
    "  if n == 0:\n",
    "    return 1\n",
    "  else:\n",
    "    return n*factorial(n-1)\n",
    "print(factorial(20))"
   ]
  },
  {
   "cell_type": "markdown",
   "metadata": {},
   "source": [
    "Q4: Check for Palindrome"
   ]
  },
  {
   "cell_type": "code",
   "execution_count": 10,
   "metadata": {},
   "outputs": [
    {
     "name": "stdout",
     "output_type": "stream",
     "text": [
      "True\n"
     ]
    }
   ],
   "source": [
    "def checkPalindrome(n: str) ->bool:\n",
    "  return n == n[::-1]\n",
    "\n",
    "print(checkPalindrome(\"racecar\"))"
   ]
  },
  {
   "cell_type": "markdown",
   "metadata": {},
   "source": [
    "Q5: Find the Largest Element in a List"
   ]
  },
  {
   "cell_type": "code",
   "execution_count": 11,
   "metadata": {},
   "outputs": [
    {
     "name": "stdout",
     "output_type": "stream",
     "text": [
      "109\n"
     ]
    }
   ],
   "source": [
    "def findMax(lst: list) -> int:\n",
    "  return max(lst)\n",
    "\n",
    "print(findMax([23, 78, 43, 89, 109, 26]))"
   ]
  },
  {
   "cell_type": "code",
   "execution_count": null,
   "metadata": {},
   "outputs": [],
   "source": [
    "Q6: Merge 2 sorted lists"
   ]
  },
  {
   "cell_type": "code",
   "execution_count": 14,
   "metadata": {},
   "outputs": [
    {
     "name": "stdout",
     "output_type": "stream",
     "text": [
      "[3, 4, 6, 8, 9, 10, 19, 37, 45, 67, 89]\n"
     ]
    }
   ],
   "source": [
    "def mergeSortedList(lst1:list, lst2:list)-> list:\n",
    "  return sorted(lst1 + lst2)\n",
    "\n",
    "print(mergeSortedList([9,6,4,3,8,10],[67,89,37,45,19]))"
   ]
  },
  {
   "cell_type": "markdown",
   "metadata": {},
   "source": [
    "Q7: Remove Duplicates from a List"
   ]
  },
  {
   "cell_type": "code",
   "execution_count": 15,
   "metadata": {},
   "outputs": [
    {
     "name": "stdout",
     "output_type": "stream",
     "text": [
      "[1, 2, 3, 4, 5]\n"
     ]
    }
   ],
   "source": [
    "def remove_Duplicate(lst:list) -> list:\n",
    "  return list(set(lst))\n",
    "\n",
    "print(remove_Duplicate([1, 2, 2, 3, 4, 4, 5]))"
   ]
  },
  {
   "cell_type": "markdown",
   "metadata": {},
   "source": [
    "Q8: Find the Intersection of Two Lists"
   ]
  },
  {
   "cell_type": "code",
   "execution_count": 16,
   "metadata": {},
   "outputs": [
    {
     "name": "stdout",
     "output_type": "stream",
     "text": [
      "[2, 3]\n"
     ]
    }
   ],
   "source": [
    "def find_inter_list(lst1:list, lst2:list) -> list:\n",
    "  return list(set(lst2) & set(lst1))\n",
    "\n",
    "print(find_inter_list([1, 2, 3], [2, 3, 4]))"
   ]
  },
  {
   "cell_type": "markdown",
   "metadata": {},
   "source": [
    "Q9: Check for Anagram"
   ]
  },
  {
   "cell_type": "code",
   "execution_count": 18,
   "metadata": {},
   "outputs": [
    {
     "name": "stdout",
     "output_type": "stream",
     "text": [
      "listen silent True\n"
     ]
    }
   ],
   "source": [
    "def checkAnagram(s1:str, s2:str) -> bool:\n",
    "  return sorted(s1) == sorted(s2)\n",
    "\n",
    "s1 = input(\"put in the first word\")\n",
    "s2 = input(\"put in the second word\")\n",
    "\n",
    "print(s1 ,s2, checkAnagram(s1, s2))"
   ]
  },
  {
   "cell_type": "markdown",
   "metadata": {},
   "source": [
    "Q10: Count Vowels in a String"
   ]
  },
  {
   "cell_type": "code",
   "execution_count": 23,
   "metadata": {},
   "outputs": [
    {
     "name": "stdout",
     "output_type": "stream",
     "text": [
      "rosemary finlan has 5 vowels\n"
     ]
    }
   ],
   "source": [
    "def countVowel(s:str) -> int:\n",
    "  vowels = \"aeiouAEIOU\"\n",
    "  return sum(1 for char in s if char in vowels)\n",
    "\n",
    "s = input(\"put in your word for counting vowels\")\n",
    "\n",
    "print(f\"{s} has {countVowel(s)} vowels\")"
   ]
  },
  {
   "cell_type": "markdown",
   "metadata": {},
   "source": [
    "Q11: Find the GCD of Two Numbers"
   ]
  },
  {
   "cell_type": "code",
   "execution_count": 26,
   "metadata": {},
   "outputs": [
    {
     "name": "stdout",
     "output_type": "stream",
     "text": [
      "6\n"
     ]
    }
   ],
   "source": [
    "def gcd_function(a:int, b:int) -> int:\n",
    "  while b:\n",
    "    a, b = b, a%b\n",
    "  return a\n",
    "\n",
    "print(gcd_function(48, 18))"
   ]
  },
  {
   "cell_type": "markdown",
   "metadata": {},
   "source": [
    "Q12: Check if a Number is Prime\n",
    "\n",
    "The loop iterates from 2 to the square root of n (inclusive). The square root is calculated using n**0.5, and int(n**0.5) + 1 ensures the range includes the integer part of the square root.\n",
    "For each i in this range, the function checks if n is divisible by i using the modulus operator %.\n",
    "If n % i == 0, it means i is a factor of n, so n is not a prime number, and the function returns False."
   ]
  },
  {
   "cell_type": "code",
   "execution_count": 27,
   "metadata": {},
   "outputs": [
    {
     "name": "stdout",
     "output_type": "stream",
     "text": [
      "True\n"
     ]
    }
   ],
   "source": [
    "def if_is_Prime(n:int) -> bool:\n",
    "  if n <= 1:\n",
    "    return False\n",
    "  for i in range(2, int(n**0.5)+1):\n",
    "    if n % i == 0:\n",
    "      return False\n",
    "  return True\n",
    "\n",
    "print(if_is_Prime(29))"
   ]
  },
  {
   "cell_type": "markdown",
   "metadata": {},
   "source": [
    "Q13: Generate a List of Prime Numbers"
   ]
  },
  {
   "cell_type": "code",
   "execution_count": 29,
   "metadata": {},
   "outputs": [
    {
     "name": "stdout",
     "output_type": "stream",
     "text": [
      "[2, 3, 5, 7, 11, 13, 17, 19, 23, 29, 31, 37, 41, 43, 47]\n"
     ]
    }
   ],
   "source": [
    "def generate_PrimeN(limit:int) -> list:\n",
    "  primes = []\n",
    "  for num in range(2, limit+1):\n",
    "    if if_is_Prime(num) == True:\n",
    "      primes.append(num)\n",
    "  return primes\n",
    "\n",
    "print(generate_PrimeN(50))"
   ]
  },
  {
   "cell_type": "markdown",
   "metadata": {},
   "source": [
    "Q14: Find the Sum of Digits of a Number"
   ]
  },
  {
   "cell_type": "code",
   "execution_count": 30,
   "metadata": {},
   "outputs": [
    {
     "name": "stdout",
     "output_type": "stream",
     "text": [
      "30\n"
     ]
    }
   ],
   "source": [
    "def find_Sum(n:int) -> int:\n",
    "  return sum(int(num) for num in str(n))\n",
    "\n",
    "print(find_Sum(26589))"
   ]
  },
  {
   "cell_type": "markdown",
   "metadata": {},
   "source": [
    "Q15: Check if a Year is a Leap Year"
   ]
  },
  {
   "cell_type": "code",
   "execution_count": 35,
   "metadata": {},
   "outputs": [
    {
     "name": "stdout",
     "output_type": "stream",
     "text": [
      "if 3487 is a leap year? The answer is False\n"
     ]
    }
   ],
   "source": [
    "def if_leap_year(year:int) -> bool:\n",
    "  return year % 4 == 0 and (year % 100 != 0 or year % 400 == 0)\n",
    "\n",
    "year = int(input('provide a year'))\n",
    "print(f'if {year} is a leap year? The answer is {if_leap_year(year)}')"
   ]
  },
  {
   "cell_type": "markdown",
   "metadata": {},
   "source": [
    "Q16: Find the length of the longest word in a sentence"
   ]
  },
  {
   "cell_type": "code",
   "execution_count": 41,
   "metadata": {},
   "outputs": [
    {
     "name": "stdout",
     "output_type": "stream",
     "text": [
      "(9, 'fantastic')\n"
     ]
    }
   ],
   "source": [
    "def finding_longestWord_len(sentence: str) -> int:\n",
    "  words = sentence.split()\n",
    "  word_count_list = [len(word) for word in words]\n",
    "  max_wordCount = max(word_count_list)\n",
    "  i = word_count_list.index(max_wordCount)\n",
    "  longest_word = words[i]\n",
    "  return max_wordCount, longest_word\n",
    "\n",
    "sentence = str(input('insert your sentence:'))\n",
    "\n",
    "print(finding_longestWord_len(sentence))"
   ]
  },
  {
   "cell_type": "markdown",
   "metadata": {},
   "source": [
    "Q17: Count the frequency of each character in a string:"
   ]
  },
  {
   "cell_type": "code",
   "execution_count": 42,
   "metadata": {},
   "outputs": [
    {
     "name": "stdout",
     "output_type": "stream",
     "text": [
      "The frequency of words are: {'S': 1, 'u': 2, 'b': 1, 's': 1, 'q': 1, 'e': 1, 'n': 1, 't': 1, 'i': 1, 'a': 1, 'l': 1}\n"
     ]
    }
   ],
   "source": [
    "def frequency(measured_word:str) -> dict:\n",
    "  frequency = {}\n",
    "  for char in measured_word:\n",
    "    if char in frequency:\n",
    "      frequency[char] += 1\n",
    "    else:\n",
    "      frequency[char] = 1\n",
    "  return frequency\n",
    "measured_word = input('what word are you going to measure the frequency of characters?')\n",
    "print(f'The frequency of words are: {frequency(measured_word)}')"
   ]
  },
  {
   "cell_type": "markdown",
   "metadata": {},
   "source": [
    "Q18: Find the second largest element in a list"
   ]
  },
  {
   "cell_type": "code",
   "execution_count": 45,
   "metadata": {},
   "outputs": [
    {
     "name": "stdout",
     "output_type": "stream",
     "text": [
      "7\n"
     ]
    }
   ],
   "source": [
    "def find_2ndLarge(lst:list) -> int:\n",
    "  unique_lst = list(set(lst))\n",
    "  unique_lst.sort()\n",
    "  return unique_lst[-2] if len(unique_lst) >= 2 else None\n",
    "print(find_2ndLarge([4,7,2,9,6]))"
   ]
  },
  {
   "cell_type": "markdown",
   "metadata": {},
   "source": [
    "Q19: Check if a string contains only digits"
   ]
  },
  {
   "cell_type": "code",
   "execution_count": 48,
   "metadata": {},
   "outputs": [
    {
     "name": "stdout",
     "output_type": "stream",
     "text": [
      "the word is ichingChen9273675 and does it contain only digits?: False\n"
     ]
    }
   ],
   "source": [
    "def check_String(s: str) -> bool:\n",
    "  return s.isdigit()\n",
    "\n",
    "s = input('what is the string that your would like to be checked ?')\n",
    "print(f'the word is {s} and does it contain only digits?: {check_String(s)}')"
   ]
  },
  {
   "cell_type": "markdown",
   "metadata": {},
   "source": [
    "Q20: Find the command elements in 2 list"
   ]
  },
  {
   "cell_type": "code",
   "execution_count": 49,
   "metadata": {},
   "outputs": [
    {
     "name": "stdout",
     "output_type": "stream",
     "text": [
      "[2, 10, 39]\n"
     ]
    }
   ],
   "source": [
    "def find_common_ele(lst1:list, lst2:list) -> list:\n",
    "  return list(set(lst1) & set(lst2))\n",
    "\n",
    "print(find_common_ele([2,6,8,9,10,39], [2,7,10,39]))"
   ]
  }
 ],
 "metadata": {
  "kernelspec": {
   "display_name": "Python 3",
   "language": "python",
   "name": "python3"
  },
  "language_info": {
   "codemirror_mode": {
    "name": "ipython",
    "version": 3
   },
   "file_extension": ".py",
   "mimetype": "text/x-python",
   "name": "python",
   "nbconvert_exporter": "python",
   "pygments_lexer": "ipython3",
   "version": "3.12.1"
  }
 },
 "nbformat": 4,
 "nbformat_minor": 2
}
