{
 "cells": [
  {
   "cell_type": "markdown",
   "metadata": {},
   "source": [
    "Q1: Reverse a String"
   ]
  },
  {
   "cell_type": "code",
   "execution_count": 3,
   "metadata": {},
   "outputs": [
    {
     "name": "stdout",
     "output_type": "stream",
     "text": [
      "The reversed string is radnelac\n"
     ]
    }
   ],
   "source": [
    "def reverseString(value: str) -> str:\n",
    "  return value[::-1]\n",
    "\n",
    "print(\"The reversed string is \" + reverseString(\"calendar\"))"
   ]
  },
  {
   "cell_type": "markdown",
   "metadata": {},
   "source": [
    "Q2: Fibonacci Sequence"
   ]
  },
  {
   "cell_type": "code",
   "execution_count": 6,
   "metadata": {},
   "outputs": [
    {
     "name": "stdout",
     "output_type": "stream",
     "text": [
      "6765\n"
     ]
    }
   ],
   "source": [
    "def fibonacci(n:int) -> int:\n",
    "  if n <= 0:\n",
    "    return 0\n",
    "  elif n == 1:\n",
    "    return 1\n",
    "  else:\n",
    "    return fibonacci(n-1)+fibonacci(n-2)\n",
    "\n",
    "print(fibonacci(20))"
   ]
  },
  {
   "cell_type": "markdown",
   "metadata": {},
   "source": [
    "Q3: Factorial of a Number"
   ]
  },
  {
   "cell_type": "code",
   "execution_count": 7,
   "metadata": {},
   "outputs": [
    {
     "name": "stdout",
     "output_type": "stream",
     "text": [
      "2432902008176640000\n"
     ]
    }
   ],
   "source": [
    "def factorial(n:int) -> int:\n",
    "  if n == 0:\n",
    "    return 1\n",
    "  else:\n",
    "    return n*factorial(n-1)\n",
    "print(factorial(20))"
   ]
  },
  {
   "cell_type": "markdown",
   "metadata": {},
   "source": [
    "Q4: Check for Palindrome"
   ]
  },
  {
   "cell_type": "code",
   "execution_count": 10,
   "metadata": {},
   "outputs": [
    {
     "name": "stdout",
     "output_type": "stream",
     "text": [
      "True\n"
     ]
    }
   ],
   "source": [
    "def checkPalindrome(n: str) ->bool:\n",
    "  return n == n[::-1]\n",
    "\n",
    "print(checkPalindrome(\"racecar\"))"
   ]
  },
  {
   "cell_type": "markdown",
   "metadata": {},
   "source": [
    "Q5: Find the Largest Element in a List"
   ]
  },
  {
   "cell_type": "code",
   "execution_count": 11,
   "metadata": {},
   "outputs": [
    {
     "name": "stdout",
     "output_type": "stream",
     "text": [
      "109\n"
     ]
    }
   ],
   "source": [
    "def findMax(lst: list) -> int:\n",
    "  return max(lst)\n",
    "\n",
    "print(findMax([23, 78, 43, 89, 109, 26]))"
   ]
  },
  {
   "cell_type": "code",
   "execution_count": null,
   "metadata": {},
   "outputs": [],
   "source": [
    "Q6: Merge 2 sorted lists"
   ]
  },
  {
   "cell_type": "code",
   "execution_count": 14,
   "metadata": {},
   "outputs": [
    {
     "name": "stdout",
     "output_type": "stream",
     "text": [
      "[3, 4, 6, 8, 9, 10, 19, 37, 45, 67, 89]\n"
     ]
    }
   ],
   "source": [
    "def mergeSortedList(lst1:list, lst2:list)-> list:\n",
    "  return sorted(lst1 + lst2)\n",
    "\n",
    "print(mergeSortedList([9,6,4,3,8,10],[67,89,37,45,19]))"
   ]
  },
  {
   "cell_type": "markdown",
   "metadata": {},
   "source": [
    "Q7: Remove Duplicates from a List"
   ]
  },
  {
   "cell_type": "code",
   "execution_count": 15,
   "metadata": {},
   "outputs": [
    {
     "name": "stdout",
     "output_type": "stream",
     "text": [
      "[1, 2, 3, 4, 5]\n"
     ]
    }
   ],
   "source": [
    "def remove_Duplicate(lst:list) -> list:\n",
    "  return list(set(lst))\n",
    "\n",
    "print(remove_Duplicate([1, 2, 2, 3, 4, 4, 5]))"
   ]
  },
  {
   "cell_type": "markdown",
   "metadata": {},
   "source": [
    "Q8: Find the Intersection of Two Lists"
   ]
  },
  {
   "cell_type": "code",
   "execution_count": 16,
   "metadata": {},
   "outputs": [
    {
     "name": "stdout",
     "output_type": "stream",
     "text": [
      "[2, 3]\n"
     ]
    }
   ],
   "source": [
    "def find_inter_list(lst1:list, lst2:list) -> list:\n",
    "  return list(set(lst2) & set(lst1))\n",
    "\n",
    "print(find_inter_list([1, 2, 3], [2, 3, 4]))"
   ]
  },
  {
   "cell_type": "markdown",
   "metadata": {},
   "source": [
    "Q9: Check for Anagram"
   ]
  },
  {
   "cell_type": "code",
   "execution_count": 18,
   "metadata": {},
   "outputs": [
    {
     "name": "stdout",
     "output_type": "stream",
     "text": [
      "listen silent True\n"
     ]
    }
   ],
   "source": [
    "def checkAnagram(s1:str, s2:str) -> bool:\n",
    "  return sorted(s1) == sorted(s2)\n",
    "\n",
    "s1 = input(\"put in the first word\")\n",
    "s2 = input(\"put in the second word\")\n",
    "\n",
    "print(s1 ,s2, checkAnagram(s1, s2))"
   ]
  },
  {
   "cell_type": "markdown",
   "metadata": {},
   "source": [
    "Q10: Count Vowels in a String"
   ]
  },
  {
   "cell_type": "code",
   "execution_count": 23,
   "metadata": {},
   "outputs": [
    {
     "name": "stdout",
     "output_type": "stream",
     "text": [
      "rosemary finlan has 5 vowels\n"
     ]
    }
   ],
   "source": [
    "def countVowel(s:str) -> int:\n",
    "  vowels = \"aeiouAEIOU\"\n",
    "  return sum(1 for char in s if char in vowels)\n",
    "\n",
    "s = input(\"put in your word for counting vowels\")\n",
    "\n",
    "print(f\"{s} has {countVowel(s)} vowels\")"
   ]
  },
  {
   "cell_type": "markdown",
   "metadata": {},
   "source": [
    "Q11: Find the GCD of Two Numbers"
   ]
  },
  {
   "cell_type": "code",
   "execution_count": 26,
   "metadata": {},
   "outputs": [
    {
     "name": "stdout",
     "output_type": "stream",
     "text": [
      "6\n"
     ]
    }
   ],
   "source": [
    "def gcd_function(a:int, b:int) -> int:\n",
    "  while b:\n",
    "    a, b = b, a%b\n",
    "  return a\n",
    "\n",
    "print(gcd_function(48, 18))"
   ]
  },
  {
   "cell_type": "markdown",
   "metadata": {},
   "source": [
    "Q12: Check if a Number is Prime\n",
    "\n",
    "The loop iterates from 2 to the square root of n (inclusive). The square root is calculated using n**0.5, and int(n**0.5) + 1 ensures the range includes the integer part of the square root.\n",
    "For each i in this range, the function checks if n is divisible by i using the modulus operator %.\n",
    "If n % i == 0, it means i is a factor of n, so n is not a prime number, and the function returns False."
   ]
  },
  {
   "cell_type": "code",
   "execution_count": 27,
   "metadata": {},
   "outputs": [
    {
     "name": "stdout",
     "output_type": "stream",
     "text": [
      "True\n"
     ]
    }
   ],
   "source": [
    "def if_is_Prime(n:int) -> bool:\n",
    "  if n <= 1:\n",
    "    return False\n",
    "  for i in range(2, int(n**0.5)+1):\n",
    "    if n % i == 0:\n",
    "      return False\n",
    "  return True\n",
    "\n",
    "print(if_is_Prime(29))"
   ]
  },
  {
   "cell_type": "markdown",
   "metadata": {},
   "source": [
    "Q13: Generate a List of Prime Numbers"
   ]
  },
  {
   "cell_type": "code",
   "execution_count": 29,
   "metadata": {},
   "outputs": [
    {
     "name": "stdout",
     "output_type": "stream",
     "text": [
      "[2, 3, 5, 7, 11, 13, 17, 19, 23, 29, 31, 37, 41, 43, 47]\n"
     ]
    }
   ],
   "source": [
    "def generate_PrimeN(limit:int) -> list:\n",
    "  primes = []\n",
    "  for num in range(2, limit+1):\n",
    "    if if_is_Prime(num) == True:\n",
    "      primes.append(num)\n",
    "  return primes\n",
    "\n",
    "print(generate_PrimeN(50))"
   ]
  },
  {
   "cell_type": "markdown",
   "metadata": {},
   "source": [
    "Q14: \n"
   ]
  }
 ],
 "metadata": {
  "kernelspec": {
   "display_name": "Python 3",
   "language": "python",
   "name": "python3"
  },
  "language_info": {
   "codemirror_mode": {
    "name": "ipython",
    "version": 3
   },
   "file_extension": ".py",
   "mimetype": "text/x-python",
   "name": "python",
   "nbconvert_exporter": "python",
   "pygments_lexer": "ipython3",
   "version": "3.12.1"
  }
 },
 "nbformat": 4,
 "nbformat_minor": 2
}
